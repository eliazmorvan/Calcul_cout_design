{
 "cells": [
  {
   "cell_type": "code",
   "execution_count": 4,
   "id": "638113a3",
   "metadata": {},
   "outputs": [],
   "source": [
    "from PIL import Image\n",
    "import numpy as np"
   ]
  },
  {
   "cell_type": "code",
   "execution_count": 9,
   "id": "f212110c",
   "metadata": {},
   "outputs": [],
   "source": [
    "image_path='../images/design-shirt.png'"
   ]
  },
  {
   "cell_type": "code",
   "execution_count": 10,
   "id": "3ce19b15",
   "metadata": {},
   "outputs": [],
   "source": [
    "image = Image.open(image_path).convert(\"RGB\")"
   ]
  },
  {
   "cell_type": "code",
   "execution_count": 11,
   "id": "ed615776",
   "metadata": {},
   "outputs": [],
   "source": [
    "pixels = np.array(image)"
   ]
  },
  {
   "cell_type": "code",
   "execution_count": 15,
   "id": "e43e21b2",
   "metadata": {},
   "outputs": [
    {
     "name": "stdout",
     "output_type": "stream",
     "text": [
      "859 840\n"
     ]
    }
   ],
   "source": [
    "h, w, _ = pixels.shape\n",
    "print(h,w)\n",
    "total_pixels = h * w\n",
    "somme_cmyk = np.zeros(4)"
   ]
  },
  {
   "cell_type": "code",
   "execution_count": 17,
   "id": "fcfe0913",
   "metadata": {},
   "outputs": [],
   "source": [
    "for row in pixels:\n",
    "    for r, g, b in row:\n",
    "        c, m, y, k = rgb_to_cmyk(r, g, b)\n",
    "        somme_cmyk += np.array([c, m, y, k])"
   ]
  },
  {
   "cell_type": "code",
   "execution_count": 16,
   "id": "2f8c904e",
   "metadata": {},
   "outputs": [],
   "source": [
    "def rgb_to_cmyk(r, g, b):\n",
    "    r_, g_, b_ = r / 255.0, g / 255.0, b / 255.0\n",
    "    k = 1 - max(r_, g_, b_)\n",
    "    if k == 1:\n",
    "        return 0, 0, 0, 1\n",
    "    c = (1 - r_ - k) / (1 - k)\n",
    "    m = (1 - g_ - k) / (1 - k)\n",
    "    y = (1 - b_ - k) / (1 - k)\n",
    "    return c, m, y, k"
   ]
  },
  {
   "cell_type": "code",
   "execution_count": 19,
   "id": "af413c08",
   "metadata": {},
   "outputs": [],
   "source": [
    "def pourcentage_cmjn(image_path):\n",
    "    image = Image.open(image_path).convert(\"RGB\")\n",
    "    pixels = np.array(image)\n",
    "    h, w, _ = pixels.shape\n",
    "\n",
    "    total_pixels = h * w\n",
    "    somme_cmyk = np.zeros(4)\n",
    "\n",
    "    for row in pixels:\n",
    "        for r, g, b in row:\n",
    "            c, m, y, k = rgb_to_cmyk(r, g, b)\n",
    "            somme_cmyk += np.array([c, m, y, k])\n",
    "\n",
    "    moyenne_cmyk = somme_cmyk / total_pixels\n",
    "    return dict(\n",
    "        Cyan=f\"{moyenne_cmyk[0]*100:.2f}%\",\n",
    "        Magenta=f\"{moyenne_cmyk[1]*100:.2f}%\",\n",
    "        Jaune=f\"{moyenne_cmyk[2]*100:.2f}%\",\n",
    "        Noir=f\"{moyenne_cmyk[3]*100:.2f}%\"\n",
    "    )"
   ]
  },
  {
   "cell_type": "code",
   "execution_count": 21,
   "id": "7406a149",
   "metadata": {},
   "outputs": [
    {
     "name": "stdout",
     "output_type": "stream",
     "text": [
      "Cyan : 17.88%\n",
      "Magenta : 17.08%\n",
      "Jaune : 6.70%\n",
      "Noir : 15.12%\n"
     ]
    }
   ],
   "source": [
    "chemin = '../images/img_color.png'\n",
    "resultats = pourcentage_cmjn(chemin)\n",
    "for couleur, valeur in resultats.items():\n",
    "    print(f\"{couleur} : {valeur}\")"
   ]
  }
 ],
 "metadata": {
  "kernelspec": {
   "display_name": "venv",
   "language": "python",
   "name": "python3"
  },
  "language_info": {
   "codemirror_mode": {
    "name": "ipython",
    "version": 3
   },
   "file_extension": ".py",
   "mimetype": "text/x-python",
   "name": "python",
   "nbconvert_exporter": "python",
   "pygments_lexer": "ipython3",
   "version": "3.12.10"
  }
 },
 "nbformat": 4,
 "nbformat_minor": 5
}
